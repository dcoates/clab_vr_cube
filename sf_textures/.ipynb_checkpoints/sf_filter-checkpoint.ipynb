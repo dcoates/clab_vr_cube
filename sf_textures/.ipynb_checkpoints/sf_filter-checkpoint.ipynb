{
 "cells": [
  {
   "cell_type": "code",
   "execution_count": null,
   "metadata": {},
   "outputs": [],
   "source": [
    "%pylab inline"
   ]
  },
  {
   "cell_type": "code",
   "execution_count": null,
   "metadata": {},
   "outputs": [],
   "source": [
    "from PIL import Image\n",
    "im=Image.open(\"./pairs.png\")\n",
    "\n",
    "imsize=512\n",
    "bits=np.random.random(size=(imsize,imsize))"
   ]
  },
  {
   "cell_type": "code",
   "execution_count": null,
   "metadata": {},
   "outputs": [],
   "source": [
    "# Make the correct indices. Surprisingly hard! Want 32100123 in the middle\n",
    "dim=512\n",
    "(ys,xs)=np.indices((dim//2,dim//2) )\n",
    "X=np.tile( np.hstack( (np.fliplr(xs),xs)), (2,1) )\n",
    "Y=np.tile( np.vstack((np.flipud(ys),ys)), (1,2) )\n",
    "\n",
    "#r=np.sqrt( (xs-(dim-1)/2.0)**2+(ys-(dim-1)/2.0)**2 )\n",
    "r=np.sqrt(X**2+Y**2)"
   ]
  },
  {
   "cell_type": "code",
   "execution_count": null,
   "metadata": {},
   "outputs": [],
   "source": [
    "def sf_filter(vals,ctr,bw=2):\n",
    "    # Follows original Eli Pelli 1990 : 1-octave bandwidth(FW@HH) centered at ctr\n",
    "    # Chung 2002 had a denominator #(np.log10(ctr*bw)-np.log10(ctr)))/2.0, but let's skip\n",
    "    filtd=0.5+np.cos(np.pi* (np.log2(vals)-np.log2(ctr)))/2 \n",
    "    filtd[vals<ctr/bw]=0\n",
    "    filtd[vals>ctr*bw]=0\n",
    "    return filtd"
   ]
  },
  {
   "cell_type": "code",
   "execution_count": null,
   "metadata": {},
   "outputs": [],
   "source": [
    "np.max(r)"
   ]
  },
  {
   "cell_type": "code",
   "execution_count": null,
   "metadata": {},
   "outputs": [],
   "source": []
  },
  {
   "cell_type": "code",
   "execution_count": null,
   "metadata": {},
   "outputs": [],
   "source": [
    "bits=np.random.random(size=(imsize,imsize))\n",
    "sf_range=np.logspace(np.log10(2),np.log10(50),15)\n",
    "for sf in sf_range:\n",
    "    ft=np.fft.fft2(bits)\n",
    "    fts=fft.fftshift(ft)\n",
    "    result= np.fft.ifft2( np.fft.ifftshift( fts*sf_filter(r,sf) ) )\n",
    "    \n",
    "    result8=np.array(real(result)) #/np.max((real(result)))*255+127,dtype='uint8')\n",
    "    result8-=np.min(result8)\n",
    "    result8/=np.max(result8)  \n",
    "    result8 = np.array(result8*255,dtype='uint8')\n",
    "    #plt.imshow( real(result ) ) \n",
    "    \n",
    "    im=Image.fromarray(result8)\n",
    "    im.save('sf_texture%0.2f.png'%sf )"
   ]
  },
  {
   "cell_type": "code",
   "execution_count": null,
   "metadata": {},
   "outputs": [],
   "source": [
    "plt.imshow(result8),sf"
   ]
  },
  {
   "cell_type": "code",
   "execution_count": null,
   "metadata": {},
   "outputs": [],
   "source": [
    "plt.plot( result8[200] )"
   ]
  },
  {
   "cell_type": "code",
   "execution_count": null,
   "metadata": {},
   "outputs": [],
   "source": [
    "frow=[abs(fft.fft( result8[n]  ))for n in np.arange(512)]\n"
   ]
  },
  {
   "cell_type": "code",
   "execution_count": null,
   "metadata": {},
   "outputs": [],
   "source": [
    "plt.plot( np.arange(1,256), np.mean(frow,axis=0)[1:256], 'o-' )\n",
    "plt.semilogx()\n",
    "plt.grid()"
   ]
  },
  {
   "cell_type": "code",
   "execution_count": null,
   "metadata": {},
   "outputs": [],
   "source": [
    "plt.imshow(bits)"
   ]
  },
  {
   "cell_type": "code",
   "execution_count": null,
   "metadata": {},
   "outputs": [],
   "source": []
  },
  {
   "cell_type": "code",
   "execution_count": null,
   "metadata": {},
   "outputs": [],
   "source": [
    "from PIL import Image\n",
    "im=Image.open(\"./pairs.png\")\n",
    "im_data=np.array( im )\n",
    "cropped_bw=im_data[0:512,0:512,0]\n",
    "np.shape( cropped_bw )\n",
    "bits=cropped_bw\n",
    "plt.imshow(bits)"
   ]
  },
  {
   "cell_type": "code",
   "execution_count": null,
   "metadata": {},
   "outputs": [],
   "source": []
  },
  {
   "cell_type": "code",
   "execution_count": null,
   "metadata": {},
   "outputs": [],
   "source": []
  },
  {
   "cell_type": "code",
   "execution_count": null,
   "metadata": {},
   "outputs": [],
   "source": [
    "plt.imshow(r[250:260,250:260]); plt.colorbar()"
   ]
  },
  {
   "cell_type": "code",
   "execution_count": null,
   "metadata": {},
   "outputs": [],
   "source": []
  },
  {
   "cell_type": "code",
   "execution_count": null,
   "metadata": {},
   "outputs": [],
   "source": [
    "plt.plot( real( np.fft.fftshift( np.fft.fft2(bits) ) )[256] )"
   ]
  },
  {
   "cell_type": "code",
   "execution_count": null,
   "metadata": {},
   "outputs": [],
   "source": [
    "ctr=4\n",
    "bw=2\n",
    "fr=np.arange(0,256)\n",
    "\n",
    "fr_filtd=sf_filter(fr,ctr)\n",
    "plt.plot(fr,fr_filtd,'o-')\n",
    "plt.semilogx()\n",
    "plt.grid()"
   ]
  },
  {
   "cell_type": "code",
   "execution_count": null,
   "metadata": {},
   "outputs": [],
   "source": [
    "np.hstack( [np.arange(0,4),np.arange(3,-1,-1)] )"
   ]
  },
  {
   "cell_type": "code",
   "execution_count": null,
   "metadata": {},
   "outputs": [],
   "source": [
    "np.abs((np.arange(8)-3.5))-0.5"
   ]
  },
  {
   "cell_type": "code",
   "execution_count": null,
   "metadata": {},
   "outputs": [],
   "source": [
    "(y,x)=np.indices((4,4))"
   ]
  },
  {
   "cell_type": "code",
   "execution_count": null,
   "metadata": {},
   "outputs": [],
   "source": []
  },
  {
   "cell_type": "code",
   "execution_count": null,
   "metadata": {},
   "outputs": [],
   "source": [
    "r=( X**2+Y**2 )"
   ]
  },
  {
   "cell_type": "code",
   "execution_count": null,
   "metadata": {},
   "outputs": [],
   "source": [
    "r"
   ]
  },
  {
   "cell_type": "code",
   "execution_count": null,
   "metadata": {},
   "outputs": [],
   "source": [
    "f=sf_filter(r,1)\n",
    "plt.plot(f[254,240:270]-0.5, '.-')\n",
    "plt.plot(f[255,240:270]-0.25, '.-')\n",
    "plt.plot(f[256,240:270], '.-')\n",
    "plt.plot(f[257,240:270]+0.25, '.-')"
   ]
  },
  {
   "cell_type": "code",
   "execution_count": null,
   "metadata": {},
   "outputs": [],
   "source": [
    "plt.imshow( np.real(np.fft.ifft2(ft) ) )"
   ]
  },
  {
   "cell_type": "code",
   "execution_count": null,
   "metadata": {},
   "outputs": [],
   "source": [
    "np.sum(sq)"
   ]
  },
  {
   "cell_type": "code",
   "execution_count": null,
   "metadata": {},
   "outputs": [],
   "source": [
    "idx=np.arange(64); sq=np.cos(idx*np.pi/32)\n",
    "plt.plot(idx,sq,'.-')"
   ]
  },
  {
   "cell_type": "code",
   "execution_count": null,
   "metadata": {},
   "outputs": [],
   "source": [
    "plt.plot(idx,np.real(fft.fft(sq)), 'o-' ) # 1th term is 1 cycle (NOT zeros term)"
   ]
  },
  {
   "cell_type": "code",
   "execution_count": null,
   "metadata": {},
   "outputs": [],
   "source": [
    "xr="
   ]
  },
  {
   "cell_type": "code",
   "execution_count": null,
   "metadata": {},
   "outputs": [],
   "source": [
    "grid=np.sign(xs%128)*np.sign(ys%128)\n",
    "plt.imshow( grid )\n",
    "plt.imshow( real( np.fft.fftshift( np.fft.fft2(grid) ) ) ); plt.colorbar()"
   ]
  },
  {
   "cell_type": "code",
   "execution_count": null,
   "metadata": {},
   "outputs": [],
   "source": []
  }
 ],
 "metadata": {
  "kernelspec": {
   "display_name": "Python 3",
   "language": "python",
   "name": "python3"
  },
  "language_info": {
   "codemirror_mode": {
    "name": "ipython",
    "version": 3
   },
   "file_extension": ".py",
   "mimetype": "text/x-python",
   "name": "python",
   "nbconvert_exporter": "python",
   "pygments_lexer": "ipython3",
   "version": "3.8.5"
  }
 },
 "nbformat": 4,
 "nbformat_minor": 4
}
